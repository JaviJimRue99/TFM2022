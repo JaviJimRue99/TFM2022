{
  "cells": [
    {
      "cell_type": "code",
      "source": [
        "%pip install tellurium\n",
        "import matplotlib.pyplot as plt\n",
        "import tellurium as te\n",
        "import numpy as np\n",
        "import time\n",
        "import math\n",
        "print('OK')"
      ],
      "outputs": [],
      "execution_count": 3,
      "metadata": {
        "collapsed": false,
        "inputHidden": false,
        "outputHidden": false
      }
    },
    {
      "cell_type": "code",
      "source": [
        "#--------------------------- CONFIGURACION DE LA LIBRETA ---------------------------\n",
        "semilla = 123456 # Semilla para la aleatoridad del integrador Gillespie\n",
        "n = 10 # Intervalo de tiempo a mostrar (en horas)\n",
        "diferencia = 0.5 # % de diferencia respecto al valor inicial\n",
        "especie = 'DPGA'\n",
        "#--------------------------- --------------------------- ---------------------------"
      ],
      "outputs": [],
      "execution_count": 4,
      "metadata": {
        "collapsed": false,
        "inputHidden": false,
        "outputHidden": false
      }
    },
    {
      "cell_type": "code",
      "source": [
        "# CARGA DE FICHERO\n",
        "tLoad_0 = time.time()\n",
        "r = te.loadAntimonyModel('Arnold2011_Zhu2009_Modelo_Estocastico.txt') # Modelo del ciclo de Calvin-Benson (Zhu2009)\n",
        "print('Fichero cargado en '+ str(time.time() - tLoad_0) +' s')"
      ],
      "outputs": [],
      "execution_count": 5,
      "metadata": {
        "collapsed": false,
        "inputHidden": false,
        "outputHidden": false
      }
    },
    {
      "cell_type": "code",
      "source": [
        "# Configuracion del integrador Gillespie -> Simulacion Estocastica\n",
        "r.integrator = 'gillespie'\n",
        "r.integrator.seed = semilla\n",
        "r.integrator.variable_step_size = False \n",
        "r.integrator.nonnegative = True\n",
        "print(r.integrator)"
      ],
      "outputs": [],
      "execution_count": 6,
      "metadata": {
        "collapsed": false,
        "inputHidden": false,
        "outputHidden": false
      }
    },
    {
      "cell_type": "code",
      "source": [
        "species = [especie]\n",
        "results = [] \n",
        "#--------------------------- --------------------------- ---------------------------\n",
        "print('Realizando simulaciones, espere por favor...')\n",
        "tSim_0 = time.time()\n",
        "r.reset() # Reset de seguridad para establecer la simulacion con los valores iniciales\n",
        "\n",
        "s = r.simulate(0,n,100*n) # Simulacion con 100n puntos en el intervalo de tiempo [0,n]\n",
        "\n",
        "print('Simulacion realizada en '+ str(time.time() - tSim_0) +' s')\n",
        "r.plot(s, show=False, alpha=0.7)\n",
        "te.show() #Para mostrar la grafica - En caso de usar el cuaderno de Tellurium esta es interactiva"
      ],
      "outputs": [],
      "execution_count": 20,
      "metadata": {
        "collapsed": false,
        "inputHidden": false,
        "outputHidden": false
      }
    },
    {
      "cell_type": "code",
      "source": [
        "valorInicial = r.getGlobalParameterValues();\n",
        "ID = list(enumerate([x for x in r.getGlobalParameterIds() if (\"K\" in x or \"k\" in x)])); # Obtenemos y mostramos los paramatros kn del modelo\n",
        "print(valorInicial)\n",
        "print(ID)"
      ],
      "outputs": [],
      "execution_count": 22,
      "metadata": {
        "collapsed": false,
        "inputHidden": false,
        "outputHidden": false
      }
    },
    {
      "cell_type": "markdown",
      "source": [
        "Especie (por defecto DPGA) variando el valor de k7 (0.1,**0,2**,0.03)"
      ],
      "metadata": {}
    },
    {
      "cell_type": "code",
      "source": [
        "#--------------------------- PRUEBA GRAFICA INDIVIDUAL ----------------------------\n",
        "Kn = 7 #ID del parametro k (1-7)\n",
        "#--------------------------- --------------------------- --------------------------\n",
        "plt.rcParams[\"figure.figsize\"] = (12, 8)\n",
        "plt.grid(color='black', linestyle='-', linewidth=2, alpha=0.1)\n",
        "\n",
        "def simulaIncertidumbre(modelo, valor, parametro):\n",
        "    dif = diferencia # % de diferencia respecto al valor inicial\n",
        "    print(parametro,' -> (',(1-dif)*valor,',',valor,',',(1+dif)*valor,')')\n",
        "    vals = np.linspace((1-dif)*valor, (1+dif)*valor, 3)\n",
        "    for specie in species:\n",
        "        r.resetAll()\n",
        "        for val in vals:\n",
        "            r.resetToOrigin() #Devolver parametros al estado original\n",
        "            exec(\"r.%s = %f\" % (parametro,val)) #Ejecuta la instrucción que asigna el valor a la variable k\n",
        "            r.integrator.seed = semilla\n",
        "            result = r.simulate(0,n,10*n, selections = ['time', specie])\n",
        "            plt.plot(result[:,0],result[:,1],label=val)\n",
        "            plt.title(\"incertidumbre en \" + parametro)\n",
        "            \n",
        "        plt.legend()\n",
        "        plt.xlabel(\"Tiempo (seg)\")\n",
        "        plt.ylabel(\"Nº particulas\")\n",
        "        \n",
        "siguienteParam = ID[Kn-1]\n",
        "simulaIncertidumbre(r,valorInicial[siguienteParam[0]+1], siguienteParam[1])"
      ],
      "outputs": [],
      "execution_count": 24,
      "metadata": {
        "collapsed": false,
        "inputHidden": false,
        "outputHidden": false
      }
    },
    {
      "cell_type": "code",
      "source": [
        "#---------------------- CONFIGURACION GRAFICAS ----------------------\n",
        "plt.grid(color='black', linestyle='-', linewidth=2, alpha=0.1)\n",
        "plt.subplots_adjust(left=0.1, bottom=0.1, right=0.9, top=0.9, wspace=0.4, hspace=0.6) \n",
        "#--------------------------------------------------------------------\n",
        "def simulaIncertidumbre(modelo, valor, parametro):\n",
        "    dif = diferencia # % de diferencia respecto al valor inicial\n",
        "    print(parametro,' -> (',(1-dif)*valor,',',valor,',',(1+dif)*valor,')')\n",
        "    vals = np.linspace((1-dif)*valor, (1+dif)*valor, 3)\n",
        "    for specie in species:\n",
        "        r.resetAll() #Reinicio del modelo\n",
        "        for val in vals:\n",
        "            r.resetToOrigin() #Devolver parametros al estado original\n",
        "            exec(\"r.%s = %f\" % (parametro,val)) #Ejecuta la instrucción que asigna el valor a la variable k\n",
        "            r.integrator.seed = semilla\n",
        "            result = r.simulate(0,n,10*n, selections = ['time', specie])\n",
        "            plt.plot(result[:,0],result[:,1],label=val)\n",
        "            plt.title(\"incertidumbre en \" + parametro)\n",
        "            \n",
        "        plt.legend()\n",
        "        plt.xlabel(\"Tiempo (seg)\")\n",
        "        plt.ylabel(\"Nº particulas\")\n",
        "#--------------------------------------------------------------------\n",
        "n = len(ID) + 1;\n",
        "dim = math.ceil(math.sqrt(n))\n",
        "for i,siguienteParam in enumerate(ID):\n",
        "    plt.subplot(dim,dim,i+1)\n",
        "    simulaIncertidumbre(r,valorInicial[siguienteParam[0]+1], siguienteParam[1])"
      ],
      "outputs": [],
      "execution_count": 25,
      "metadata": {
        "collapsed": false,
        "inputHidden": false,
        "outputHidden": false
      }
    }
  ],
  "metadata": {
    "kernel_info": {
      "name": "python3"
    },
    "kernelspec": {
      "name": "python3",
      "language": "python",
      "display_name": "Python 3 (built-in)"
    },
    "language_info": {
      "name": "python",
      "version": "3.6.2",
      "mimetype": "text/x-python",
      "codemirror_mode": {
        "name": "ipython",
        "version": 3
      },
      "pygments_lexer": "ipython3",
      "nbconvert_exporter": "python",
      "file_extension": ".py"
    },
    "vscode": {
      "interpreter": {
        "hash": "42b7a8269543bcb579cd7b7725932418ba11ca9773c942937c2bd4311fe78df7"
      }
    }
  },
  "nbformat": 4,
  "nbformat_minor": 4
}