{
 "cells": [
  {
   "cell_type": "code",
   "execution_count": null,
   "id": "6e4a3811",
   "metadata": {},
   "outputs": [],
   "source": [
    "# IMPORTS\n",
    "import random\n",
    "import numpy as np\n",
    "import funcionesAuxiliares as fun_aux\n",
    "import funcionAjuste\n",
    "import funcionesVisualizacion as fun_vis\n",
    "import funcionesTest\n",
    "import matplotlib.pyplot as plt\n",
    "! pip install joblib\n",
    "from joblib import Parallel, delayed\n",
    "! pip install tellurium\n",
    "import tellurium as te\n",
    "plt.ion\n",
    "%matplotlib inline\n",
    "\n",
    "hrs = np.arange(0,8760,0.1)\n",
    "print('OK')\n"
   ]
  },
  {
   "cell_type": "markdown",
   "id": "968789e9",
   "metadata": {},
   "source": [
    "# LUZ AM AUTOMATIZADA (v. 9 puntos)"
   ]
  },
  {
   "cell_type": "code",
   "execution_count": null,
   "id": "478e8060",
   "metadata": {},
   "outputs": [],
   "source": [
    "#-----------------------------------------------------------------------------\n",
    "# LOCALIZACION -> Indicar localizacion (ficheros adjuntos)\n",
    "Localizacion = 'Albacete'\n",
    "#-----------------------------------------------------------------------------\n",
    "# REFERENCIA -> Indicar si se van a usar ficheros de referencia\n",
    "Referencia = True\n",
    "# Referencia = False\n",
    "Latitud = 0\n",
    "Longitud = 0 \n",
    "PuntosReferencia = [] # Vector para introducir manualmente los puntos de rs\n",
    "#-----------------------------------------------------------------------------\n",
    "# MINIMOS Y MAXIMOS DE CADA ALEATORIO\n",
    "# Diario (Para aumentar o disminuir radiación base)\n",
    "MinimoDiario = 0.8\n",
    "MaximoDiario = 1.15\n",
    "# Horario (Para simular nubes)\n",
    "MinimoHorario = 0.75\n",
    "MaximoHorario = 1\n",
    "#-----------------------------------------------------------------------------\n",
    "# AJUSTE -> Activar para quitar hueco en ubicaciones del norte (ajustar horas de dia y noche)\n",
    "Ajuste = True\n",
    "epsilonValues = np.arange(-1,1,0.05) # Modificar para el ajuste\n",
    "# deltaValues = np.arange(-1,1,0.05) # Modificar para el ajuste (NO SE PUEDE PASAR A LA FUNCION QUE PARARELIZA EL BUCLE -> SE DECLARA EN funcionesTest)\n",
    "#-----------------------------------------------------------------------------\n",
    "# TEST -> Activar para comprobar la duracion del dia y la noche de cada dia\n",
    "Test = True\n",
    "DebugMode = True\n",
    "simulaRADIACION = False\n",
    "#-----------------------------------------------------------------------------"
   ]
  },
  {
   "cell_type": "markdown",
   "id": "da451068",
   "metadata": {},
   "source": [
    "Lectura de datos necesarios para el calculo de la radiación solar mediante los ficheros de referencia"
   ]
  },
  {
   "cell_type": "code",
   "execution_count": null,
   "id": "12ccdb8d",
   "metadata": {},
   "outputs": [],
   "source": [
    "resul_leeReferencia = fun_aux.leeReferencia(Localizacion)\n",
    "RReferencia = resul_leeReferencia[0]\n",
    "Latitud = resul_leeReferencia[1]\n",
    "Longitud =resul_leeReferencia[2]\n",
    "x1 = resul_leeReferencia[3] # Puntos en los que se toman los datos de referencia"
   ]
  },
  {
   "cell_type": "markdown",
   "id": "184834e5",
   "metadata": {},
   "source": [
    "Calculo del fotoperiodo y las variables y1, y2 e y3"
   ]
  },
  {
   "cell_type": "code",
   "execution_count": null,
   "id": "252d6946",
   "metadata": {},
   "outputs": [],
   "source": [
    "resul_calculaFotoperiodo = fun_aux.calcula_y1(Latitud,x1,DebugMode)\n",
    "y1 = resul_calculaFotoperiodo[0]\n",
    "Fotoperiodo = resul_calculaFotoperiodo[1]\n",
    "print(y1)"
   ]
  },
  {
   "cell_type": "code",
   "execution_count": null,
   "id": "f17ef28a",
   "metadata": {},
   "outputs": [],
   "source": [
    "hsol = funcionAjuste.ajuste(y1,x1) # el ajuste se ha cambiado por una interpolacion cubica (parece que los resultados salen mucho mejor)\n",
    "plt.plot(x1,y1,'*',hrs,hsol)\n",
    "print(len(hsol))"
   ]
  },
  {
   "cell_type": "code",
   "execution_count": null,
   "id": "cd22e4a5",
   "metadata": {},
   "outputs": [],
   "source": [
    "resul_calculay23 = fun_aux.calcula_y23(RReferencia,y1,DebugMode)\n",
    "y2 = resul_calculay23[0]\n",
    "y3 = resul_calculay23[1]"
   ]
  },
  {
   "cell_type": "markdown",
   "id": "9d752dba",
   "metadata": {},
   "source": [
    "Calculo de la radiación final (sin ajuste)"
   ]
  },
  {
   "cell_type": "code",
   "execution_count": null,
   "id": "31057a3e",
   "metadata": {},
   "outputs": [],
   "source": [
    "Ac2 = funcionAjuste.ajuste(y2,x1)\n",
    "plt.plot(x1,y2,'*',hrs,Ac2)\n",
    "s = fun_aux.calculaRadiacion(Ac2, hsol)\n",
    "fun_vis.muestraRadiacion(x1,y3,s)"
   ]
  },
  {
   "cell_type": "code",
   "execution_count": null,
   "id": "2ea048b7",
   "metadata": {},
   "outputs": [],
   "source": [
    "plt.xlim(172*24,173*24)\n",
    "plt.plot(hrs,s)"
   ]
  },
  {
   "cell_type": "markdown",
   "id": "19dca9ec",
   "metadata": {},
   "source": [
    "### RESULTADOS ANTES DEL AJUSTE"
   ]
  },
  {
   "cell_type": "code",
   "execution_count": null,
   "id": "8ee9e4ac",
   "metadata": {},
   "outputs": [],
   "source": [
    "# Antes del ajuste con un margen de error del 30% en 1 hora\n",
    "funcionesTest.ejecutaTest(Test,DebugMode,Latitud,s)"
   ]
  },
  {
   "cell_type": "code",
   "execution_count": null,
   "id": "815d251e",
   "metadata": {},
   "outputs": [],
   "source": [
    "def ajusteDeltaEpsilon(epsilon):\n",
    "    mejorSuma = 1000000\n",
    "    deltaValues=np.arange(-1,1,0.05)\n",
    "    for delta in deltaValues:\n",
    "            duracion = 0\n",
    "            duracionInvierno = 0\n",
    "\n",
    "            sAjuste = funcionesTest.radAjustada(y1,y2,x1,delta,epsilon)\n",
    "\n",
    "            for i in sAjuste[43800:44040]: \n",
    "                if i == 0:\n",
    "                    duracion = duracion + 1\n",
    "            duracion = duracion/10\n",
    "            diferenciaAUX = abs((24 - max(Fotoperiodo))-duracion)\n",
    "            \n",
    "            for i in sAjuste[0:240]:\n",
    "                if i == 0:\n",
    "                    duracionInvierno = duracionInvierno + 1\n",
    "            duracionInvierno = duracionInvierno/10\n",
    "            diferenciaAUXinvierno = abs((24 - min(Fotoperiodo))-duracionInvierno)\n",
    "            sumaAUX = diferenciaAUXinvierno + diferenciaAUX\n",
    "            \n",
    "            if sumaAUX < mejorSuma:\n",
    "                mejorSuma = sumaAUX\n",
    "                mejorEpsilon = epsilon\n",
    "                mejorDelta = delta\n",
    "                if DebugMode:\n",
    "                    print('MEJOR SUMA = ', mejorSuma, '-->',mejorEpsilon,'|',mejorDelta,'\\n')\n",
    "                \n",
    "    return mejorSuma,mejorEpsilon, mejorDelta"
   ]
  },
  {
   "cell_type": "code",
   "execution_count": null,
   "id": "63082082",
   "metadata": {},
   "outputs": [],
   "source": [
    "if Ajuste:\n",
    "    results = Parallel(n_jobs=-1, verbose=1, backend=\"threading\")(map(delayed(ajusteDeltaEpsilon), epsilonValues))\n",
    "    minimo = 100000\n",
    "    for i in range(len(results)):\n",
    "        if results[i][0] < minimo:\n",
    "            minimo = results[i][0] \n",
    "            print('MEJOR SUMA = ', results[i][0], '-->',results[i][1],'|',results[i][2],'\\n')\n",
    "            mejorepsilon = results[i][1]\n",
    "            mejordelta = results[i][2]\n",
    "else:\n",
    "    print('Test desactivado')"
   ]
  },
  {
   "cell_type": "markdown",
   "id": "e5617558",
   "metadata": {},
   "source": [
    "### RESULTADOS DESPUES DEL AJUSTE"
   ]
  },
  {
   "cell_type": "code",
   "execution_count": null,
   "id": "a0ff2bce",
   "metadata": {},
   "outputs": [],
   "source": [
    "if Ajuste:\n",
    "    s = funcionesTest.radAjustada(y1,y2,x1,mejordelta,mejorepsilon)\n",
    "    plt.plot(hrs,s)\n",
    "    funcionesTest.ejecutaTest(Test,DebugMode,Latitud,s)"
   ]
  },
  {
   "cell_type": "markdown",
   "id": "1a5bb3ff",
   "metadata": {},
   "source": [
    "### RESULTADOS CON ALEATORIOS"
   ]
  },
  {
   "cell_type": "code",
   "execution_count": null,
   "id": "5fe5f918",
   "metadata": {},
   "outputs": [],
   "source": [
    "sFinal = []\n",
    "for dia in range(0,365,1):\n",
    "    randomDiario = random.uniform(MinimoDiario,MaximoDiario)\n",
    "    for hora in range(0,24,1):\n",
    "        randomHorario = random.uniform(MinimoHorario,MaximoHorario)\n",
    "        for i in range(0,10,1):\n",
    "            #print((hora*10+i)+240*dia)\n",
    "            sFinal.append(s[(hora*10+i)+240*dia]*1000*randomDiario*randomHorario)\n",
    "fun_vis.muestraRadiacion(x1,y3,sFinal)"
   ]
  },
  {
   "cell_type": "code",
   "execution_count": null,
   "id": "2c5ed136",
   "metadata": {},
   "outputs": [],
   "source": [
    "print(len(sFinal))\n",
    "fun_vis.muestraInvierno(x1,y3,sFinal,7)\n",
    "fun_vis.muestraVerano(x1,y3,sFinal,7)"
   ]
  },
  {
   "cell_type": "code",
   "execution_count": null,
   "id": "118beabd",
   "metadata": {},
   "outputs": [],
   "source": [
    "fsalida = open('radiacion_eventos.txt', 'w')\n",
    "cont = 0\n",
    "for i in range(87600):\n",
    "    if sFinal[i] != 0:\n",
    "        fsalida.write('at (time >= %f && time < %f): F1AUX = %f\\n'%(i/10,(i+1)/10,sFinal[i]))\n",
    "        ultimo = i-1\n",
    "    if i == 0:\n",
    "        i_inicial = 0\n",
    "    if i != 0 and i!= 87599:\n",
    "        if sFinal[i] == 0 and sFinal[i-1] != 0:\n",
    "            i_inicial = i\n",
    "\n",
    "        if sFinal[i] == 0 and sFinal[i+1] != 0:\n",
    "            i_final = i\n",
    "            fsalida.write('at (time >= %f && time < %f): F1AUX = 0.0\\n'%(i_inicial/10,i_final/10))\n",
    "               \n",
    "fsalida.write('end\\n')\n",
    "fsalida.close()\n",
    "print('TERMINADO')"
   ]
  },
  {
   "cell_type": "code",
   "execution_count": null,
   "id": "5df61ca7",
   "metadata": {},
   "outputs": [],
   "source": [
    "filenames = ['modeloFinal.txt','radiacion_eventos.txt'] \n",
    "with open('modeloFinal_v2.txt', 'w') as outfile: \n",
    "    for fname in filenames: \n",
    "        with open(fname) as infile: \n",
    "            for line in infile: \n",
    "                outfile.write(line)"
   ]
  },
  {
   "cell_type": "markdown",
   "id": "fa1adf43",
   "metadata": {},
   "source": [
    "Carga del modelo"
   ]
  },
  {
   "cell_type": "code",
   "execution_count": null,
   "id": "60576260",
   "metadata": {},
   "outputs": [],
   "source": [
    "\n",
    "import time\n",
    "tic = time.perf_counter()\n",
    "print('Cargando fichero...')\n",
    "model = te.loada('modeloFinal_v2.txt')\n",
    "toc = time.perf_counter()\n",
    "print(f'Fichero cargado en {toc - tic:0.2f} segundos')"
   ]
  },
  {
   "cell_type": "markdown",
   "id": "011e55d5",
   "metadata": {},
   "source": [
    "Simulación del modelo"
   ]
  },
  {
   "cell_type": "code",
   "execution_count": null,
   "id": "a93116db",
   "metadata": {},
   "outputs": [],
   "source": [
    "n = 8760\n",
    "print('Realizando simulaciones, espere por favor...')\n",
    "tic = time.perf_counter()\n",
    "model.resetAll()\n",
    "simulation_result_especies = model.simulate(0.1,n,10*n+1)\n",
    "print('1/2')\n",
    "toc = time.perf_counter()\n",
    "print(f'Simulacion ejecutada en {toc - tic:0.2f} segundos')"
   ]
  },
  {
   "cell_type": "code",
   "execution_count": null,
   "id": "dc7c1ff5",
   "metadata": {},
   "outputs": [],
   "source": [
    "if simulaRADIACION:\n",
    "    n = 8760\n",
    "    print('Realizando simulaciones, espere por favor...')\n",
    "    tic = time.perf_counter()\n",
    "    model.resetAll()\n",
    "    simulation_result_F1 = model.simulate(0.1,n,10*n+1,['time','F1_ORIGINAL'])\n",
    "    print('2/2')\n",
    "    toc = time.perf_counter()\n",
    "    print(f'Simulacion ejecutada en {toc - tic:0.2f} segundos')\n",
    "else:\n",
    "    print('Desactivado')"
   ]
  },
  {
   "cell_type": "code",
   "execution_count": null,
   "id": "98d63ed6",
   "metadata": {},
   "outputs": [],
   "source": [
    "#print(simulation_result_especies)"
   ]
  },
  {
   "cell_type": "code",
   "execution_count": null,
   "id": "d9c0b561",
   "metadata": {},
   "outputs": [],
   "source": [
    "fsalida = open('resultados.txt', 'w')\n",
    "str = repr(simulation_result_especies)\n",
    "fsalida.write(str)\n",
    "fsalida.close()\n",
    "if simulaRADIACION:\n",
    "    fsalida = open('resultadosF1.txt', 'w')\n",
    "    str = repr(simulation_result_F1)\n",
    "    fsalida.write(str)\n",
    "    fsalida.close()"
   ]
  },
  {
   "cell_type": "code",
   "execution_count": null,
   "id": "6036223b",
   "metadata": {},
   "outputs": [],
   "source": [
    "fichero = \"resultados.txt\"\n",
    "with open(fichero,'r', encoding='utf-8') as f:\n",
    "    data = f.read()\n",
    "    data = data.replace(\"[\", \"\")\n",
    "    data = data.replace(\"]\", \"\")\n",
    "    data = data.replace(\" \", \"\")\n",
    "    with open(fichero,'w', encoding='utf-8') as f2:\n",
    "        f2.write(data)\n",
    "if simulaRADIACION:\n",
    "    fichero = \"resultadosF1.txt\"\n",
    "    with open(fichero,'r', encoding='utf-8') as f:\n",
    "        data = f.read()\n",
    "        data = data.replace(\"[\", \"\")\n",
    "        data = data.replace(\"]\", \"\")\n",
    "        data = data.replace(\" \", \"\")\n",
    "        with open(fichero,'w', encoding='utf-8') as f2:\n",
    "            f2.write(data)"
   ]
  }
 ],
 "metadata": {
  "kernelspec": {
   "display_name": "Python 3.10.5 64-bit",
   "language": "python",
   "name": "python3"
  },
  "language_info": {
   "codemirror_mode": {
    "name": "ipython",
    "version": 3
   },
   "file_extension": ".py",
   "mimetype": "text/x-python",
   "name": "python",
   "nbconvert_exporter": "python",
   "pygments_lexer": "ipython3",
   "version": "3.10.5"
  },
  "vscode": {
   "interpreter": {
    "hash": "42b7a8269543bcb579cd7b7725932418ba11ca9773c942937c2bd4311fe78df7"
   }
  }
 },
 "nbformat": 4,
 "nbformat_minor": 5
}
