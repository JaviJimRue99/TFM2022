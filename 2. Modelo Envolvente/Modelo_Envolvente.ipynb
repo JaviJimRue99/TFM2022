{
  "cells": [
    {
      "cell_type": "markdown",
      "source": [
        "# Modelo RS_Envolvente\n",
        "Si estamos ejecutando esta libreta desde Tellurium Notebook dejar activada la opción de Tellurium que se muestra a continuación.\n",
        "En caso de usar Jupyter o notebooks similares desactivar para instalar la libreria.\n",
        "#### AJUSTES"
      ],
      "metadata": {}
    },
    {
      "cell_type": "code",
      "source": [
        "# Indicar si se esta ejecutando desde Tellurium\n",
        "Tellurium = False\n",
        "#===========================================================\n",
        "# LOCALIZACION -> Indicar localizacion (ficheros adjuntos)\n",
        "Localizacion = 'Albacete'\n",
        "#===========================================================\n",
        "# MINIMOS Y MAXIMOS DE CADA ALEATORIO\n",
        "# Diario (Para aumentar o disminuir radiación base)\n",
        "MinimoDiario = 0.8\n",
        "MaximoDiario = 1.15\n",
        "# Horario (Para simular nubes)\n",
        "MinimoHorario = 0.75\n",
        "MaximoHorario = 1\n",
        "#===========================================================\n",
        "# VARIABLE A CONSULTAR\n",
        "especie = \"H2O2\" \n",
        "Todas_Las_Especies = True\n",
        "#===========================================================\n",
        "listaEspecies = ['APX', 'APXi', 'ASC', 'CoI', 'CoII', 'DHA', 'DHAR', 'GR', 'GSH', 'GSSG', 'MDA',  'NADP', 'NADPH', 'O2neg', 'SOD', 'TRXox', 'TRXred', 'PRXox', 'PRXred', 'H2O2', 'H2O', 'ECBBox', 'ECBBred']\n",
        "listaVelocidades = ['vGR','vDHAR','vSOD','vAPX','v_APXH','v_APXMDA','kN','vFN','vF11','vF12','vF13','vF14']"
      ],
      "outputs": [],
      "execution_count": 1,
      "metadata": {}
    },
    {
      "cell_type": "markdown",
      "source": [
        "## Implementación del modelo"
      ],
      "metadata": {}
    },
    {
      "cell_type": "code",
      "source": [
        "if Tellurium == False:\n",
        "    %pip install tellurium\n",
        "#===========================================================\n",
        "import math\n",
        "import shutil\n",
        "import random\n",
        "import numpy as np\n",
        "import tellurium as te\n",
        "from datetime import datetime\n",
        "import matplotlib.pyplot as plt\n",
        "from scipy.optimize import curve_fit\n",
        "#==========================================================="
      ],
      "outputs": [],
      "execution_count": 2,
      "metadata": {}
    },
    {
      "cell_type": "markdown",
      "source": [
        "###### Nota\n",
        "De momento se consigue la envolvente de la radiación leyendo los datos del PVGIS, se puede modificar de manera sencilla para dar nosotros 5 puntos de radiación para crear dicha envolvente"
      ],
      "metadata": {}
    },
    {
      "cell_type": "code",
      "source": [
        "ficheroReferencia = \"Referencias/TMY_\"+Localizacion+\".txt\"\n",
        "print('Localizacion:',Localizacion,'\\n----------------------------------------------')\n",
        "nPuntos = 12\n",
        "RReferenciaAux = []\n",
        "RReferencia = []\n",
        "w = 2*math.pi/8760\n",
        "dr = math.pi/180\n",
        "hrs = np.arange(0,8760,0.1)\n",
        "\n",
        "file = open(ficheroReferencia,'r')\n",
        "lineas = file.readlines()\n",
        "contLinea = 0\n",
        "longitud = 0\n",
        "for linea in lineas:\n",
        "    contLinea += 1 \n",
        "    if contLinea == 1:\n",
        "        a,b = linea.split(\":\")\n",
        "        latitud = float(b)\n",
        "        print('Latitud:',latitud)\n",
        "        \n",
        "    if contLinea == 2:\n",
        "        a,b = linea.split(\":\")\n",
        "        longitud = float(b)\n",
        "        print('Longitud:',longitud)\n",
        "    \n",
        "    if contLinea >= 18  and contLinea <= 8777:\n",
        "        a,b,c,d,e,f,g,h,i,j = linea.split(\",\")\n",
        "        RReferenciaAux.append(float(d))\n",
        "file.close\n",
        "\n",
        "difUTC = math.floor((longitud+7.5)/15)\n",
        "print(difUTC)\n",
        "RReferenciaAux = np.roll(RReferenciaAux,difUTC)\n",
        "x1 = np.arange(0,8760.1,8760/nPuntos)\n",
        "print('Puntos dia:', x1)\n",
        "RReferenciaAux = np.roll(RReferenciaAux,240) # Roll para comenzar el 21 de diciembre"
      ],
      "outputs": [],
      "execution_count": 3,
      "metadata": {}
    },
    {
      "cell_type": "code",
      "source": [
        "fotoperiodo = []\n",
        "for i in x1:\n",
        "    dia = i/24\n",
        "    sd = 23.45*dr*math.sin((2*math.pi*(dia+274))/365) \n",
        "    #sd para modelos que empiecen el 1 de enero -> 23.45*dr*math.sin((2*math.pi*(dia+284))/365)\n",
        "    ws = math.acos(-math.tan(sd)*math.tan(latitud*dr))\n",
        "    wts = ws*(180/(math.pi*15))\n",
        "    Tr = 12 - wts\n",
        "    Ts = 12 + wts\n",
        "    HorasDeSol = Ts - Tr\n",
        "    fotoperiodo.append(HorasDeSol)\n",
        "print('Horas de sol (fotoperiodo)\\n--------------------------\\n',fotoperiodo,'\\n')"
      ],
      "outputs": [],
      "execution_count": 4,
      "metadata": {}
    },
    {
      "cell_type": "code",
      "source": [
        "#-----------------------------------------------------------------------------\n",
        "#AJUSTE DE y3\n",
        "#-----------------------------------------------------------------------------\n",
        "from matplotlib import pyplot as plt\n",
        "import numpy as np\n",
        "from scipy import interpolate\n",
        "\n",
        "def ajustey3(y12,x1):\n",
        "    print(len(y12))\n",
        "    print(y12)\n",
        "    print(len(x1))\n",
        "    tck = interpolate.splrep(x1, y12, s=0, k=3)\n",
        "    x_new = np.linspace(min(x1), max(x1), 87600)\n",
        "    y_fit = interpolate.BSpline(*tck)(x_new)\n",
        "    return y_fit"
      ],
      "outputs": [],
      "execution_count": 5,
      "metadata": {}
    },
    {
      "cell_type": "code",
      "source": [
        "y3 = []\n",
        "lista = RReferenciaAux.tolist()\n",
        "\n",
        "mediaRAD = []\n",
        "print('Punto 0')\n",
        "for j in range(0,240,24):\n",
        "    mediaRAD.append(np.max(lista[j:j+240]))\n",
        "mediaRAD_MAX = np.max(mediaRAD)\n",
        "print('Max Radiacion:',mediaRAD_MAX)\n",
        "contMedia = 0\n",
        "mediaRAD_calculo = 0\n",
        "for j in range(10):\n",
        "        if mediaRAD[j] >= mediaRAD_MAX*0.75:\n",
        "            mediaRAD_calculo += mediaRAD[j]\n",
        "            contMedia += 1\n",
        "media = mediaRAD_calculo / contMedia\n",
        "print('Media Radiacion:',media,'\\n')\n",
        "y3.append(media)\n",
        "\n",
        "for i in range(0+int(8760/nPuntos),8760,int(8760/nPuntos)):\n",
        "    print('Punto',i)\n",
        "    mediaRAD = []\n",
        "    for j in range(i,i+240,24):\n",
        "        mediaRAD.append(np.max(lista[j:j+240]))\n",
        "\n",
        "    for j in range(i,i-240,-24):\n",
        "        mediaRAD.append(np.max(lista[j:j+240]))\n",
        "\n",
        "    mediaRAD_MAX = np.max(mediaRAD)\n",
        "    print('Max Radiacion:',mediaRAD_MAX)\n",
        "    contMedia = 0\n",
        "    mediaRAD_calculo = 0\n",
        "    for j in range(20):\n",
        "            if mediaRAD[j] >= mediaRAD_MAX*0.75:\n",
        "                mediaRAD_calculo += mediaRAD[j]\n",
        "                contMedia += 1\n",
        "    media = mediaRAD_calculo / contMedia\n",
        "    print('Media Radiacion:',media,'\\n')\n",
        "    y3.append(media)\n",
        "\n",
        "mediaRAD = []\n",
        "for j in range(8760-240,8760,24):\n",
        "    mediaRAD.append(np.max(lista[j:j+240]))\n",
        "mediaRAD_MAX = np.max(mediaRAD)\n",
        "print('Max Radiacion:',mediaRAD_MAX)\n",
        "contMedia = 0\n",
        "mediaRAD_calculo = 0\n",
        "for j in range(10):\n",
        "        if mediaRAD[j] >= mediaRAD_MAX*0.75:\n",
        "            mediaRAD_calculo += mediaRAD[j]\n",
        "            contMedia += 1\n",
        "media = mediaRAD_calculo / contMedia\n",
        "print('Media Radiacion:',media,'\\n')\n",
        "y3.append(media)\n",
        "\n",
        "print('y3\\n--------------------------\\n',y3,'\\n')\n",
        "plt.plot(x1,y3)"
      ],
      "outputs": [],
      "execution_count": 6,
      "metadata": {}
    },
    {
      "cell_type": "code",
      "source": [
        "envolvente = ajustey3(y3,x1)\n",
        "plt.plot(x1,y3,'*',hrs,envolvente)"
      ],
      "outputs": [],
      "execution_count": 7,
      "metadata": {}
    },
    {
      "cell_type": "code",
      "source": [
        "for i in range(0,87600,int(87600/365)):\n",
        "    dia = (i/240)+1\n",
        "    sd = 23.45*dr*math.sin((2*math.pi*(dia+274))/365) \n",
        "    ws = math.acos(-math.tan(sd)*math.tan(latitud*dr))\n",
        "    wts = ws*(180/(math.pi*15))\n",
        "    Tr = 12 - wts\n",
        "    Ts = 12 + wts\n",
        "    #print('TR:',Tr,'TS',Ts,'DURACION =',Ts-Tr)"
      ],
      "outputs": [],
      "execution_count": 8,
      "metadata": {}
    },
    {
      "cell_type": "code",
      "source": [
        "a1Values = []\n",
        "for i in range(0,87600,int(87600/365)):\n",
        "    a1Values.append(envolvente[i+120])\n",
        "print(len(a1Values))"
      ],
      "outputs": [],
      "execution_count": 11,
      "metadata": {}
    },
    {
      "cell_type": "code",
      "source": [
        "yRS = []\n",
        "dr = math.pi/180\n",
        "rango = np.arange(0.1,8760.1,0.1)\n",
        "for time in rango:\n",
        "    dia = math.ceil(time/24);\n",
        "    sd = 23.45*dr*math.sin((2*math.pi*(dia+274))/365) \n",
        "    ws = math.acos(-math.tan(sd)*math.tan(latitud*dr))\n",
        "    wts = ws*(180/(math.pi*15))\n",
        "    sr = 12-wts;\n",
        "    ss = 12+wts;\n",
        "    ld = ss-sr;\n",
        "    \n",
        "    b1 = math.pi/ld \n",
        "    c1 = (-math.pi/ld)*sr\n",
        "    \n",
        "    if time <= ss+24*(dia-1) and time >= sr+24*(dia-1):\n",
        "        yRS.append(a1Values[dia-1]*math.sin(b1*(time-24*(dia-1))+c1))\n",
        "    else:\n",
        "        yRS.append(0)\n",
        "        "
      ],
      "outputs": [],
      "execution_count": 12,
      "metadata": {}
    },
    {
      "cell_type": "code",
      "source": [
        "print('GENERANDO MODELO FINAL...')\n",
        "rangoTime = np.arange(0,8761,1)\n",
        "fsalida = open('Modelo/parte2.txt', 'w')\n",
        "fsalida.write('\\nlatitud = %f\\n'%(latitud))\n",
        "for i in range(0,87600,int(87600/365)):\n",
        "    a1Values.append(envolvente[i+120])\n",
        "    randomDiario = random.uniform(MinimoDiario,MaximoDiario)\n",
        "    fsalida.write('at (dia == %d): a1 = %f, randomDiario = %f\\n'%((i/240)+1,envolvente[i+120],randomDiario))\n",
        "    if((i/240)+1 == 1):\n",
        "        fsalida.write('a1 = %f #NO BORRAR -> Hace falta duplicarlo para inicializar a1\\n'%(envolvente[i+120]))\n",
        "for j in rangoTime:\n",
        "    randomHorario = random.uniform(MinimoHorario,MaximoHorario)\n",
        "    fsalida.write('at (time >= %d && time <%d): randomHorario = %f\\n'%(j,j+1,randomHorario))\n",
        "fsalida.write('end\\n')\n",
        "fsalida.close()\n",
        "print('TERMINADO')"
      ],
      "outputs": [],
      "execution_count": 13,
      "metadata": {}
    },
    {
      "cell_type": "code",
      "source": [
        "print('UNIENDO MODELO...')\n",
        "with open('Modelo/MODELO_FINAL.txt','wb') as wfd:\n",
        "    for f in ['Modelo/parte1Fija.txt','Modelo/parte2.txt']:\n",
        "        with open(f,'rb') as fd:\n",
        "            shutil.copyfileobj(fd, wfd)\n",
        "print('TERMINADO')"
      ],
      "outputs": [],
      "execution_count": 14,
      "metadata": {}
    },
    {
      "cell_type": "code",
      "source": [
        "import time\n",
        "tic = time.perf_counter()\n",
        "print('Cargando fichero...')\n",
        "model = te.loada('Modelo/MODELO_FINAL.txt')\n",
        "toc = time.perf_counter()\n",
        "print(f'Fichero cargado en {toc - tic:0.2f} segundos')"
      ],
      "outputs": [],
      "execution_count": 15,
      "metadata": {}
    },
    {
      "cell_type": "code",
      "source": [
        "n = 8760\n",
        "print('Realizando simulaciones, espere por favor...')\n",
        "tic = time.perf_counter()\n",
        "model.resetAll()\n",
        "if Todas_Las_Especies == True:\n",
        "    simulation_result_especies = model.simulate(0.1,n,10*n+1)\n",
        "    model.plot(simulation_result_especies)\n",
        "\n",
        "    model.resetAll()\n",
        "    simulation_result_F1 = model.simulate(0.1,n,10*n+1,[\"time\",'F1RAD'])\n",
        "    model.plot(simulation_result_F1)\n",
        "    \n",
        "else:\n",
        "    simulation_result = model.simulate(0.1,n,10*n+1,[\"time\",especie])\n",
        "\n",
        "toc = time.perf_counter()\n",
        "print(f'Simulacion ejecutada en {toc - tic:0.2f} segundos')"
      ],
      "outputs": [],
      "execution_count": 16,
      "metadata": {}
    },
    {
      "cell_type": "code",
      "source": [
        "import pandas as pd\n",
        "\n",
        "date = datetime.now()\n",
        "fichero='ResultadosEspecies%s.txt'%date.strftime(\"%Y-%m-%d(%H%M%S)\")\n",
        "with open(fichero,'w', encoding='utf-8') as f:\n",
        "    f.write(str(simulation_result_especies))\n",
        "f.close()\n",
        "with open(fichero,'r', encoding='utf-8') as f:\n",
        "    data = f.read()\n",
        "    data = data.replace(\"[\", \"\")\n",
        "    data = data.replace(\"]\", \"\")\n",
        "    data = data.replace(\" \", \"\")\n",
        "    data = data.replace(\",\\n\", \"\\n\")\n",
        "    with open(fichero,'w', encoding='utf-8') as f2:\n",
        "        f2.write(data)\n",
        "        \n",
        "fichero='ResultadosRADIACION%s.txt'%date.strftime(\"%Y-%m-%d(%H%M%S)\")\n",
        "with open(fichero,'w', encoding='utf-8') as f:\n",
        "    f.write(str(simulation_result_F1))\n",
        "f.close()\n",
        "with open(fichero,'r', encoding='utf-8') as f:\n",
        "    data = f.read()\n",
        "    data = data.replace(\"[\", \"\")\n",
        "    data = data.replace(\"]\", \"\")\n",
        "    data = data.replace(\" \", \"\")\n",
        "    data = data.replace(\",\\n\", \"\\n\")\n",
        "    with open(fichero,'w', encoding='utf-8') as f2:\n",
        "        f2.write(data)"
      ],
      "outputs": [],
      "execution_count": 20,
      "metadata": {}
    }
  ],
  "metadata": {
    "kernel_info": {
      "name": "python3"
    },
    "kernelspec": {
      "name": "python3",
      "language": "python",
      "display_name": "Python 3 (built-in)"
    },
    "language_info": {
      "name": "python",
      "version": "3.6.2",
      "mimetype": "text/x-python",
      "codemirror_mode": {
        "name": "ipython",
        "version": 3
      },
      "pygments_lexer": "ipython3",
      "nbconvert_exporter": "python",
      "file_extension": ".py"
    },
    "vscode": {
      "interpreter": {
        "hash": "42b7a8269543bcb579cd7b7725932418ba11ca9773c942937c2bd4311fe78df7"
      }
    }
  },
  "nbformat": 4,
  "nbformat_minor": 5
}